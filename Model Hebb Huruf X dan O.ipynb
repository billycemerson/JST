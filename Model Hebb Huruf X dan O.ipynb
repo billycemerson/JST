{
 "cells": [
  {
   "cell_type": "code",
   "execution_count": 1,
   "id": "709b8f9f",
   "metadata": {},
   "outputs": [],
   "source": [
    "import numpy as np\n",
    "\n",
    "# Definisikan pola untuk huruf X dan O dalam matriks 5x5\n",
    "X_pattern = np.array([[1, 0, 0, 0, 1],\n",
    "                      [0, 1, 0, 1, 0],\n",
    "                      [0, 0, 1, 0, 0],\n",
    "                      [0, 1, 0, 1, 0],\n",
    "                      [1, 0, 0, 0, 1]])\n",
    "\n",
    "O_pattern = np.array([[0, 1, 1, 1, 0],\n",
    "                      [1, 0, 0, 0, 1],\n",
    "                      [1, 0, 0, 0, 1],\n",
    "                      [1, 0, 0, 0, 1],\n",
    "                      [0, 1, 1, 1, 0]])"
   ]
  },
  {
   "cell_type": "code",
   "execution_count": 2,
   "id": "e915d2b6",
   "metadata": {},
   "outputs": [
    {
     "data": {
      "text/plain": [
       "array([[1, 0, 0, 0, 1],\n",
       "       [0, 1, 0, 1, 0],\n",
       "       [0, 0, 1, 0, 0],\n",
       "       [0, 1, 0, 1, 0],\n",
       "       [1, 0, 0, 0, 1]])"
      ]
     },
     "execution_count": 2,
     "metadata": {},
     "output_type": "execute_result"
    }
   ],
   "source": [
    "X_pattern"
   ]
  },
  {
   "cell_type": "code",
   "execution_count": 3,
   "id": "1238a476",
   "metadata": {
    "scrolled": true
   },
   "outputs": [
    {
     "data": {
      "text/plain": [
       "array([[0, 1, 1, 1, 0],\n",
       "       [1, 0, 0, 0, 1],\n",
       "       [1, 0, 0, 0, 1],\n",
       "       [1, 0, 0, 0, 1],\n",
       "       [0, 1, 1, 1, 0]])"
      ]
     },
     "execution_count": 3,
     "metadata": {},
     "output_type": "execute_result"
    }
   ],
   "source": [
    "O_pattern"
   ]
  },
  {
   "cell_type": "code",
   "execution_count": 4,
   "id": "cdbdff76",
   "metadata": {},
   "outputs": [],
   "source": [
    "# Hitung bobot sinaptik menggunakan aturan Hebb\n",
    "def hebb_learning(patterns):\n",
    "    num_patterns, pattern_size = patterns.shape\n",
    "    weights = np.zeros((pattern_size, pattern_size))\n",
    "\n",
    "    for pattern in patterns:\n",
    "        weights += np.outer(pattern, pattern)\n",
    "    \n",
    "    # Normalisasi bobot agar dalam rentang -1 hingga 1\n",
    "    weights /= pattern_size\n",
    "    return weights\n",
    "\n",
    "# Fungsi aktivasi menggunakan fungsi signum\n",
    "def activation_function(x):\n",
    "    return np.sign(x)\n",
    "\n",
    "# Lakukan pembelajaran Hebb pada pola huruf X dan O\n",
    "patterns = np.array([X_pattern.flatten(), O_pattern.flatten()])\n",
    "weights = hebb_learning(patterns)"
   ]
  },
  {
   "cell_type": "code",
   "execution_count": 5,
   "id": "03b53814",
   "metadata": {},
   "outputs": [
    {
     "data": {
      "text/plain": [
       "array([[1, 0, 0, 0, 1, 0, 1, 0, 1, 0, 0, 0, 1, 0, 0, 0, 1, 0, 1, 0, 1, 0,\n",
       "        0, 0, 1],\n",
       "       [0, 1, 1, 1, 0, 1, 0, 0, 0, 1, 1, 0, 0, 0, 1, 1, 0, 0, 0, 1, 0, 1,\n",
       "        1, 1, 0]])"
      ]
     },
     "execution_count": 5,
     "metadata": {},
     "output_type": "execute_result"
    }
   ],
   "source": [
    "patterns"
   ]
  },
  {
   "cell_type": "code",
   "execution_count": 6,
   "id": "276d2a18",
   "metadata": {},
   "outputs": [
    {
     "data": {
      "text/plain": [
       "array([[0.04, 0.  , 0.  , 0.  , 0.04, 0.  , 0.04, 0.  , 0.04, 0.  , 0.  ,\n",
       "        0.  , 0.04, 0.  , 0.  , 0.  , 0.04, 0.  , 0.04, 0.  , 0.04, 0.  ,\n",
       "        0.  , 0.  , 0.04],\n",
       "       [0.  , 0.04, 0.04, 0.04, 0.  , 0.04, 0.  , 0.  , 0.  , 0.04, 0.04,\n",
       "        0.  , 0.  , 0.  , 0.04, 0.04, 0.  , 0.  , 0.  , 0.04, 0.  , 0.04,\n",
       "        0.04, 0.04, 0.  ],\n",
       "       [0.  , 0.04, 0.04, 0.04, 0.  , 0.04, 0.  , 0.  , 0.  , 0.04, 0.04,\n",
       "        0.  , 0.  , 0.  , 0.04, 0.04, 0.  , 0.  , 0.  , 0.04, 0.  , 0.04,\n",
       "        0.04, 0.04, 0.  ],\n",
       "       [0.  , 0.04, 0.04, 0.04, 0.  , 0.04, 0.  , 0.  , 0.  , 0.04, 0.04,\n",
       "        0.  , 0.  , 0.  , 0.04, 0.04, 0.  , 0.  , 0.  , 0.04, 0.  , 0.04,\n",
       "        0.04, 0.04, 0.  ],\n",
       "       [0.04, 0.  , 0.  , 0.  , 0.04, 0.  , 0.04, 0.  , 0.04, 0.  , 0.  ,\n",
       "        0.  , 0.04, 0.  , 0.  , 0.  , 0.04, 0.  , 0.04, 0.  , 0.04, 0.  ,\n",
       "        0.  , 0.  , 0.04],\n",
       "       [0.  , 0.04, 0.04, 0.04, 0.  , 0.04, 0.  , 0.  , 0.  , 0.04, 0.04,\n",
       "        0.  , 0.  , 0.  , 0.04, 0.04, 0.  , 0.  , 0.  , 0.04, 0.  , 0.04,\n",
       "        0.04, 0.04, 0.  ],\n",
       "       [0.04, 0.  , 0.  , 0.  , 0.04, 0.  , 0.04, 0.  , 0.04, 0.  , 0.  ,\n",
       "        0.  , 0.04, 0.  , 0.  , 0.  , 0.04, 0.  , 0.04, 0.  , 0.04, 0.  ,\n",
       "        0.  , 0.  , 0.04],\n",
       "       [0.  , 0.  , 0.  , 0.  , 0.  , 0.  , 0.  , 0.  , 0.  , 0.  , 0.  ,\n",
       "        0.  , 0.  , 0.  , 0.  , 0.  , 0.  , 0.  , 0.  , 0.  , 0.  , 0.  ,\n",
       "        0.  , 0.  , 0.  ],\n",
       "       [0.04, 0.  , 0.  , 0.  , 0.04, 0.  , 0.04, 0.  , 0.04, 0.  , 0.  ,\n",
       "        0.  , 0.04, 0.  , 0.  , 0.  , 0.04, 0.  , 0.04, 0.  , 0.04, 0.  ,\n",
       "        0.  , 0.  , 0.04],\n",
       "       [0.  , 0.04, 0.04, 0.04, 0.  , 0.04, 0.  , 0.  , 0.  , 0.04, 0.04,\n",
       "        0.  , 0.  , 0.  , 0.04, 0.04, 0.  , 0.  , 0.  , 0.04, 0.  , 0.04,\n",
       "        0.04, 0.04, 0.  ],\n",
       "       [0.  , 0.04, 0.04, 0.04, 0.  , 0.04, 0.  , 0.  , 0.  , 0.04, 0.04,\n",
       "        0.  , 0.  , 0.  , 0.04, 0.04, 0.  , 0.  , 0.  , 0.04, 0.  , 0.04,\n",
       "        0.04, 0.04, 0.  ],\n",
       "       [0.  , 0.  , 0.  , 0.  , 0.  , 0.  , 0.  , 0.  , 0.  , 0.  , 0.  ,\n",
       "        0.  , 0.  , 0.  , 0.  , 0.  , 0.  , 0.  , 0.  , 0.  , 0.  , 0.  ,\n",
       "        0.  , 0.  , 0.  ],\n",
       "       [0.04, 0.  , 0.  , 0.  , 0.04, 0.  , 0.04, 0.  , 0.04, 0.  , 0.  ,\n",
       "        0.  , 0.04, 0.  , 0.  , 0.  , 0.04, 0.  , 0.04, 0.  , 0.04, 0.  ,\n",
       "        0.  , 0.  , 0.04],\n",
       "       [0.  , 0.  , 0.  , 0.  , 0.  , 0.  , 0.  , 0.  , 0.  , 0.  , 0.  ,\n",
       "        0.  , 0.  , 0.  , 0.  , 0.  , 0.  , 0.  , 0.  , 0.  , 0.  , 0.  ,\n",
       "        0.  , 0.  , 0.  ],\n",
       "       [0.  , 0.04, 0.04, 0.04, 0.  , 0.04, 0.  , 0.  , 0.  , 0.04, 0.04,\n",
       "        0.  , 0.  , 0.  , 0.04, 0.04, 0.  , 0.  , 0.  , 0.04, 0.  , 0.04,\n",
       "        0.04, 0.04, 0.  ],\n",
       "       [0.  , 0.04, 0.04, 0.04, 0.  , 0.04, 0.  , 0.  , 0.  , 0.04, 0.04,\n",
       "        0.  , 0.  , 0.  , 0.04, 0.04, 0.  , 0.  , 0.  , 0.04, 0.  , 0.04,\n",
       "        0.04, 0.04, 0.  ],\n",
       "       [0.04, 0.  , 0.  , 0.  , 0.04, 0.  , 0.04, 0.  , 0.04, 0.  , 0.  ,\n",
       "        0.  , 0.04, 0.  , 0.  , 0.  , 0.04, 0.  , 0.04, 0.  , 0.04, 0.  ,\n",
       "        0.  , 0.  , 0.04],\n",
       "       [0.  , 0.  , 0.  , 0.  , 0.  , 0.  , 0.  , 0.  , 0.  , 0.  , 0.  ,\n",
       "        0.  , 0.  , 0.  , 0.  , 0.  , 0.  , 0.  , 0.  , 0.  , 0.  , 0.  ,\n",
       "        0.  , 0.  , 0.  ],\n",
       "       [0.04, 0.  , 0.  , 0.  , 0.04, 0.  , 0.04, 0.  , 0.04, 0.  , 0.  ,\n",
       "        0.  , 0.04, 0.  , 0.  , 0.  , 0.04, 0.  , 0.04, 0.  , 0.04, 0.  ,\n",
       "        0.  , 0.  , 0.04],\n",
       "       [0.  , 0.04, 0.04, 0.04, 0.  , 0.04, 0.  , 0.  , 0.  , 0.04, 0.04,\n",
       "        0.  , 0.  , 0.  , 0.04, 0.04, 0.  , 0.  , 0.  , 0.04, 0.  , 0.04,\n",
       "        0.04, 0.04, 0.  ],\n",
       "       [0.04, 0.  , 0.  , 0.  , 0.04, 0.  , 0.04, 0.  , 0.04, 0.  , 0.  ,\n",
       "        0.  , 0.04, 0.  , 0.  , 0.  , 0.04, 0.  , 0.04, 0.  , 0.04, 0.  ,\n",
       "        0.  , 0.  , 0.04],\n",
       "       [0.  , 0.04, 0.04, 0.04, 0.  , 0.04, 0.  , 0.  , 0.  , 0.04, 0.04,\n",
       "        0.  , 0.  , 0.  , 0.04, 0.04, 0.  , 0.  , 0.  , 0.04, 0.  , 0.04,\n",
       "        0.04, 0.04, 0.  ],\n",
       "       [0.  , 0.04, 0.04, 0.04, 0.  , 0.04, 0.  , 0.  , 0.  , 0.04, 0.04,\n",
       "        0.  , 0.  , 0.  , 0.04, 0.04, 0.  , 0.  , 0.  , 0.04, 0.  , 0.04,\n",
       "        0.04, 0.04, 0.  ],\n",
       "       [0.  , 0.04, 0.04, 0.04, 0.  , 0.04, 0.  , 0.  , 0.  , 0.04, 0.04,\n",
       "        0.  , 0.  , 0.  , 0.04, 0.04, 0.  , 0.  , 0.  , 0.04, 0.  , 0.04,\n",
       "        0.04, 0.04, 0.  ],\n",
       "       [0.04, 0.  , 0.  , 0.  , 0.04, 0.  , 0.04, 0.  , 0.04, 0.  , 0.  ,\n",
       "        0.  , 0.04, 0.  , 0.  , 0.  , 0.04, 0.  , 0.04, 0.  , 0.04, 0.  ,\n",
       "        0.  , 0.  , 0.04]])"
      ]
     },
     "execution_count": 6,
     "metadata": {},
     "output_type": "execute_result"
    }
   ],
   "source": [
    "weights"
   ]
  },
  {
   "cell_type": "code",
   "execution_count": 7,
   "id": "42953e5d",
   "metadata": {},
   "outputs": [
    {
     "name": "stdout",
     "output_type": "stream",
     "text": [
      "Hasil pengenalan huruf X: [0. 1. 1. 1. 0. 1. 0. 0. 0. 1. 1. 0. 0. 0. 1. 1. 0. 0. 0. 1. 0. 1. 1. 1.\n",
      " 0.]\n",
      "Hasil pengenalan huruf O: [0. 1. 1. 1. 0. 1. 0. 0. 0. 1. 1. 0. 0. 0. 1. 1. 0. 0. 0. 1. 0. 1. 1. 1.\n",
      " 0.]\n"
     ]
    }
   ],
   "source": [
    "# Fungsi untuk mengenali huruf berdasarkan bobot yang telah dipelajari\n",
    "def recognize(input_pattern, weights):\n",
    "    net_input = np.dot(input_pattern, weights)\n",
    "    output = activation_function(net_input)\n",
    "    return output\n",
    "\n",
    "# Contoh pengenalan huruf X\n",
    "test_X = np.array([[0, 1, 0, 1, 0],\n",
    "                   [1, 0, 1, 0, 1],\n",
    "                   [0, 1, 0, 1, 0],\n",
    "                   [1, 0, 1, 0, 1],\n",
    "                   [0, 1, 0, 1, 0]])\n",
    "\n",
    "output_X = recognize(test_X.flatten(), weights)\n",
    "print(\"Hasil pengenalan huruf X:\", output_X)\n",
    "\n",
    "# Contoh pengenalan huruf O\n",
    "test_O = np.array([[0, 1, 1, 1, 0],\n",
    "                   [1, 0, 0, 0, 1],\n",
    "                   [1, 0, 0, 0, 1],\n",
    "                   [1, 0, 0, 0, 1],\n",
    "                   [0, 1, 1, 1, 0]])\n",
    "\n",
    "output_O = recognize(test_O.flatten(), weights)\n",
    "print(\"Hasil pengenalan huruf O:\", output_O)"
   ]
  },
  {
   "cell_type": "code",
   "execution_count": null,
   "id": "b7848a05",
   "metadata": {},
   "outputs": [],
   "source": []
  }
 ],
 "metadata": {
  "kernelspec": {
   "display_name": "Python 3 (ipykernel)",
   "language": "python",
   "name": "python3"
  },
  "language_info": {
   "codemirror_mode": {
    "name": "ipython",
    "version": 3
   },
   "file_extension": ".py",
   "mimetype": "text/x-python",
   "name": "python",
   "nbconvert_exporter": "python",
   "pygments_lexer": "ipython3",
   "version": "3.10.4"
  }
 },
 "nbformat": 4,
 "nbformat_minor": 5
}
