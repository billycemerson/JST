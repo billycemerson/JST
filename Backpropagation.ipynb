{
 "cells": [
  {
   "cell_type": "markdown",
   "id": "1d301925",
   "metadata": {},
   "source": [
    "<center>\n",
    "    \n",
    "## Implementasi Backpropagation pada Tabel Kebenaran XOR\n",
    "    \n",
    "</center>\n"
   ]
  },
  {
   "cell_type": "markdown",
   "id": "de30c5bf",
   "metadata": {},
   "source": [
    "### DATA"
   ]
  },
  {
   "attachments": {
    "1_01idVj7sVw2ZnGZFapvW4A.webp": {
     "image/webp": "[encoded data removed]"
    }
   },
   "cell_type": "markdown",
   "id": "32de4e37",
   "metadata": {},
   "source": [
    "Data yang digunakan adalah tabel kebenaran XOR sebagai berikut.\n",
    "\n",
    "![1_01idVj7sVw2ZnGZFapvW4A.webp](attachment:1_01idVj7sVw2ZnGZFapvW4A.webp)"
   ]
  },
  {
   "cell_type": "markdown",
   "id": "c53bc211",
   "metadata": {},
   "source": [
    "### NEURAL NETWORK MODEL"
   ]
  },
  {
   "attachments": {
    "1_qXt_iBvWods-FOvTldxYFw.webp": {
     "image/webp": "[encoded data removed]"
    }
   },
   "cell_type": "markdown",
   "id": "40bbf8c4",
   "metadata": {},
   "source": [
    "![1_qXt_iBvWods-FOvTldxYFw.webp](attachment:1_qXt_iBvWods-FOvTldxYFw.webp)"
   ]
  },
  {
   "cell_type": "markdown",
   "id": "a8769896",
   "metadata": {},
   "source": [
    "<center>\n",
    "The Neural Network Model to solve the XOR Logic\n",
    "</center>"
   ]
  },
  {
   "cell_type": "markdown",
   "id": "ed747ef7",
   "metadata": {},
   "source": [
    "### SIGMOID NEURON"
   ]
  },
  {
   "cell_type": "markdown",
   "id": "2a8667f7",
   "metadata": {},
   "source": [
    "To implement an XOR gate, will be using a Sigmoid Neuron as nodes in the neural network."
   ]
  },
  {
   "attachments": {
    "1_R4twuYNUKXVzsvgOGkPZsA.webp": {
     "image/webp": "[encoded data removed]"
    }
   },
   "cell_type": "markdown",
   "id": "84ee9745",
   "metadata": {},
   "source": [
    "![1_R4twuYNUKXVzsvgOGkPZsA.webp](attachment:1_R4twuYNUKXVzsvgOGkPZsA.webp)"
   ]
  },
  {
   "cell_type": "markdown",
   "id": "bce05e1e",
   "metadata": {},
   "source": [
    "<center>\n",
    "    The Sigmoidal Curve\n",
    "</center>"
   ]
  },
  {
   "attachments": {
    "1_m6Bs9A8FvWbqCa7nqn_GWg.webp": {
     "image/webp": "[encoded data removed]"
    }
   },
   "cell_type": "markdown",
   "id": "53aa2a19",
   "metadata": {},
   "source": [
    "![1_m6Bs9A8FvWbqCa7nqn_GWg.webp](attachment:1_m6Bs9A8FvWbqCa7nqn_GWg.webp)"
   ]
  },
  {
   "cell_type": "markdown",
   "id": "ff54c9ca",
   "metadata": {},
   "source": [
    "<center>\n",
    "    The Sigmoid Function\n",
    "</center>"
   ]
  },
  {
   "cell_type": "markdown",
   "id": "9837a5c1",
   "metadata": {},
   "source": [
    "### GRADIENT DESCENT"
   ]
  },
  {
   "cell_type": "markdown",
   "id": "e9593f75",
   "metadata": {},
   "source": [
    "Backpropagation dilakukan menggunakan algoritma Gradient Descent.\n",
    "\n",
    "Fungsi kerugian dari neuron sigmoid adalah squared error loss. Jika kita memplot loss/error terhadap bobot, kita akan mendapatkan sesuatu seperti ini:"
   ]
  },
  {
   "attachments": {
    "1_rNDygHX0Ds1In2mBE1ZC4g.webp": {
     "image/webp": "[encoded data removed]"
    }
   },
   "cell_type": "markdown",
   "id": "88e99741",
   "metadata": {},
   "source": [
    "![1_rNDygHX0Ds1In2mBE1ZC4g.webp](attachment:1_rNDygHX0Ds1In2mBE1ZC4g.webp)"
   ]
  },
  {
   "cell_type": "markdown",
   "id": "b65c88ab",
   "metadata": {},
   "source": [
    "<center>\n",
    "    Error/Loss vs Weights Graph\n",
    "</center>"
   ]
  },
  {
   "cell_type": "markdown",
   "id": "30529ab2",
   "metadata": {},
   "source": [
    "### PYTHON IMPLEMENTATION"
   ]
  },
  {
   "cell_type": "code",
   "execution_count": 1,
   "id": "1045e049",
   "metadata": {},
   "outputs": [],
   "source": [
    "import numpy as np \n",
    "#np.random.seed(0)"
   ]
  },
  {
   "cell_type": "code",
   "execution_count": 2,
   "id": "5b610a2b",
   "metadata": {},
   "outputs": [],
   "source": [
    "def sigmoid (x):\n",
    "    return 1/(1 + np.exp(-x))\n",
    "\n",
    "def sigmoid_derivative(x):\n",
    "    return x * (1 - x)"
   ]
  },
  {
   "cell_type": "code",
   "execution_count": null,
   "id": "679107bc",
   "metadata": {},
   "outputs": [],
   "source": []
  },
  {
   "cell_type": "code",
   "execution_count": 3,
   "id": "7f355f41",
   "metadata": {},
   "outputs": [],
   "source": [
    "#Input datasets\n",
    "inputs = np.array([[0,0],[0,1],[1,0],[1,1]])\n",
    "expected_output = np.array([[0],[1],[1],[0]])"
   ]
  },
  {
   "cell_type": "code",
   "execution_count": 4,
   "id": "f938306e",
   "metadata": {},
   "outputs": [
    {
     "data": {
      "text/plain": [
       "array([[0, 0],\n",
       "       [0, 1],\n",
       "       [1, 0],\n",
       "       [1, 1]])"
      ]
     },
     "execution_count": 4,
     "metadata": {},
     "output_type": "execute_result"
    }
   ],
   "source": [
    "inputs"
   ]
  },
  {
   "cell_type": "code",
   "execution_count": 5,
   "id": "f60e1979",
   "metadata": {},
   "outputs": [
    {
     "data": {
      "text/plain": [
       "array([[0],\n",
       "       [1],\n",
       "       [1],\n",
       "       [0]])"
      ]
     },
     "execution_count": 5,
     "metadata": {},
     "output_type": "execute_result"
    }
   ],
   "source": [
    "expected_output"
   ]
  },
  {
   "cell_type": "code",
   "execution_count": 6,
   "id": "5d67d7ec",
   "metadata": {},
   "outputs": [],
   "source": [
    "epochs = 10000\n",
    "lr = 0.1\n",
    "inputLayerNeurons, hiddenLayerNeurons, outputLayerNeurons = 2,2,1"
   ]
  },
  {
   "cell_type": "code",
   "execution_count": 7,
   "id": "34f9dbfd",
   "metadata": {},
   "outputs": [
    {
     "name": "stdout",
     "output_type": "stream",
     "text": [
      "Initial hidden weights: [0.07718177 0.16628968] [0.80753446 0.1772319 ]\n",
      "Initial hidden biases: [0.069741  0.0716636]\n",
      "Initial output weights: [0.87956117] [0.26675346]\n",
      "Initial output biases: [0.15474952]\n"
     ]
    }
   ],
   "source": [
    "#Random weights and bias initialization\n",
    "hidden_weights = np.random.uniform(size=(inputLayerNeurons,hiddenLayerNeurons))\n",
    "hidden_bias =np.random.uniform(size=(1,hiddenLayerNeurons))\n",
    "output_weights = np.random.uniform(size=(hiddenLayerNeurons,outputLayerNeurons))\n",
    "output_bias = np.random.uniform(size=(1,outputLayerNeurons))\n",
    "\n",
    "print(\"Initial hidden weights: \",end='')\n",
    "print(*hidden_weights)\n",
    "print(\"Initial hidden biases: \",end='')\n",
    "print(*hidden_bias)\n",
    "print(\"Initial output weights: \",end='')\n",
    "print(*output_weights)\n",
    "print(\"Initial output biases: \",end='')\n",
    "print(*output_bias)"
   ]
  },
  {
   "cell_type": "code",
   "execution_count": 8,
   "id": "692d4e27",
   "metadata": {},
   "outputs": [],
   "source": [
    "#Training algorithm\n",
    "for _ in range(epochs):\n",
    "\t#Forward Propagation\n",
    "\thidden_layer_activation = np.dot(inputs,hidden_weights)\n",
    "\thidden_layer_activation += hidden_bias\n",
    "\thidden_layer_output = sigmoid(hidden_layer_activation)\n",
    "\n",
    "\toutput_layer_activation = np.dot(hidden_layer_output,output_weights)\n",
    "\toutput_layer_activation += output_bias\n",
    "\tpredicted_output = sigmoid(output_layer_activation)\n",
    "\n",
    "\t#Backpropagation\n",
    "\terror = expected_output - predicted_output\n",
    "\td_predicted_output = error * sigmoid_derivative(predicted_output)\n",
    "\t\n",
    "\terror_hidden_layer = d_predicted_output.dot(output_weights.T)\n",
    "\td_hidden_layer = error_hidden_layer * sigmoid_derivative(hidden_layer_output)\n",
    "\n",
    "\t#Updating Weights and Biases\n",
    "\toutput_weights += hidden_layer_output.T.dot(d_predicted_output) * lr\n",
    "\toutput_bias += np.sum(d_predicted_output,axis=0,keepdims=True) * lr\n",
    "\thidden_weights += inputs.T.dot(d_hidden_layer) * lr\n",
    "\thidden_bias += np.sum(d_hidden_layer,axis=0,keepdims=True) * lr"
   ]
  },
  {
   "cell_type": "code",
   "execution_count": 9,
   "id": "f33b51a1",
   "metadata": {},
   "outputs": [
    {
     "name": "stdout",
     "output_type": "stream",
     "text": [
      "Final hidden weights: [5.74735227 3.70173978] [5.7513143  3.70255802]\n",
      "Final hidden bias: [-2.39270874 -5.6693255 ]\n",
      "Final output weights: [7.44043358] [-8.05806145]\n",
      "Final output bias: [-3.35498108]\n",
      "\n",
      "Output from neural network after 10.000 epochs: [0.05954721] [0.94512256] [0.94510961] [0.05924594]\n"
     ]
    }
   ],
   "source": [
    "print(\"Final hidden weights: \",end='')\n",
    "print(*hidden_weights)\n",
    "print(\"Final hidden bias: \",end='')\n",
    "print(*hidden_bias)\n",
    "print(\"Final output weights: \",end='')\n",
    "print(*output_weights)\n",
    "print(\"Final output bias: \",end='')\n",
    "print(*output_bias)\n",
    "\n",
    "print(\"\\nOutput from neural network after 10.000 epochs: \",end='')\n",
    "print(*predicted_output)"
   ]
  },
  {
   "cell_type": "markdown",
   "id": "aa310e45",
   "metadata": {},
   "source": [
    "### Referensi\n",
    "\n",
    "https://towardsdatascience.com/implementing-the-xor-gate-using-backpropagation-in-neural-networks-c1f255b4f20d"
   ]
  }
 ],
 "metadata": {
  "kernelspec": {
   "display_name": "Python 3 (ipykernel)",
   "language": "python",
   "name": "python3"
  },
  "language_info": {
   "codemirror_mode": {
    "name": "ipython",
    "version": 3
   },
   "file_extension": ".py",
   "mimetype": "text/x-python",
   "name": "python",
   "nbconvert_exporter": "python",
   "pygments_lexer": "ipython3",
   "version": "3.10.4"
  }
 },
 "nbformat": 4,
 "nbformat_minor": 5
}
