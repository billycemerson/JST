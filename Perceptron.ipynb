{
 "cells": [
  {
   "cell_type": "code",
   "execution_count": 1,
   "id": "41470f8d",
   "metadata": {},
   "outputs": [],
   "source": [
    "from sklearn.linear_model import Perceptron\n",
    "import numpy as np"
   ]
  },
  {
   "cell_type": "markdown",
   "id": "ae596148",
   "metadata": {},
   "source": [
    "### Kasus 1"
   ]
  },
  {
   "cell_type": "markdown",
   "id": "0174bb56",
   "metadata": {},
   "source": [
    "Tabel Kebenaran AND dengan Input dan Output Bipolar."
   ]
  },
  {
   "cell_type": "code",
   "execution_count": 22,
   "id": "45ea130a",
   "metadata": {},
   "outputs": [
    {
     "data": {
      "text/plain": [
       "array([[ 1,  1],\n",
       "       [ 1, -1],\n",
       "       [-1,  1],\n",
       "       [-1, -1]])"
      ]
     },
     "execution_count": 22,
     "metadata": {},
     "output_type": "execute_result"
    }
   ],
   "source": [
    "# Data training\n",
    "X = np.array([[1, 1],\n",
    "              [1, -1],\n",
    "              [-1, 1],\n",
    "              [-1, -1]])\n",
    "X"
   ]
  },
  {
   "cell_type": "code",
   "execution_count": 23,
   "id": "ace47b2c",
   "metadata": {},
   "outputs": [
    {
     "data": {
      "text/plain": [
       "array([ 1,  1,  1, -1])"
      ]
     },
     "execution_count": 23,
     "metadata": {},
     "output_type": "execute_result"
    }
   ],
   "source": [
    "y = np.array([1, 1, 1, -1])\n",
    "y"
   ]
  },
  {
   "cell_type": "code",
   "execution_count": 24,
   "id": "664d5485",
   "metadata": {},
   "outputs": [
    {
     "data": {
      "text/plain": [
       "array([ 1,  1,  1, -1])"
      ]
     },
     "execution_count": 24,
     "metadata": {},
     "output_type": "execute_result"
    }
   ],
   "source": [
    "# Inisialisasi dan pelatihan model Perceptron\n",
    "perceptron = Perceptron(max_iter=100, tol=None, eta0=1)\n",
    "perceptron.fit(X, y)\n",
    "\n",
    "# Prediksi\n",
    "predictions = perceptron.predict(X)\n",
    "\n",
    "# Menampilkan hasil\n",
    "predictions"
   ]
  },
  {
   "cell_type": "markdown",
   "id": "d39ae054",
   "metadata": {},
   "source": [
    "### Kasus 2"
   ]
  },
  {
   "cell_type": "markdown",
   "id": "44e694b1",
   "metadata": {},
   "source": [
    "Pengenenalan Huruf X dan O."
   ]
  },
  {
   "cell_type": "code",
   "execution_count": 25,
   "id": "236ae266",
   "metadata": {},
   "outputs": [
    {
     "data": {
      "text/plain": [
       "array([[ 1, -1, -1, -1,  1],\n",
       "       [-1,  1, -1,  1, -1],\n",
       "       [-1, -1,  1, -1, -1],\n",
       "       [-1,  1, -1,  1, -1],\n",
       "       [ 1, -1, -1, -1,  1]])"
      ]
     },
     "execution_count": 25,
     "metadata": {},
     "output_type": "execute_result"
    }
   ],
   "source": [
    "# Definisikan pola huruf X dan O\n",
    "X_pola = np.array([[1, -1, -1, -1, 1],\n",
    "                      [-1, 1, -1, 1, -1],\n",
    "                      [-1, -1, 1, -1, -1],\n",
    "                      [-1, 1, -1, 1, -1],\n",
    "                      [1, -1, -1, -1, 1]])\n",
    "\n",
    "X_pola"
   ]
  },
  {
   "cell_type": "code",
   "execution_count": 26,
   "id": "216dff4a",
   "metadata": {},
   "outputs": [
    {
     "data": {
      "text/plain": [
       "array([[-1,  1,  1,  1, -1],\n",
       "       [ 1, -1, -1, -1,  1],\n",
       "       [ 1, -1, -1, -1,  1],\n",
       "       [ 1, -1, -1, -1,  1],\n",
       "       [-1,  1,  1,  1, -1]])"
      ]
     },
     "execution_count": 26,
     "metadata": {},
     "output_type": "execute_result"
    }
   ],
   "source": [
    "O_pola = np.array([[-1, 1, 1, 1, -1],\n",
    "                      [1, -1, -1, -1, 1],\n",
    "                      [1, -1, -1, -1, 1],\n",
    "                      [1, -1, -1, -1, 1],\n",
    "                      [-1, 1, 1, 1, -1]])\n",
    "O_pola"
   ]
  },
  {
   "cell_type": "code",
   "execution_count": 27,
   "id": "6fd31107",
   "metadata": {},
   "outputs": [],
   "source": [
    "# Bentuk data training dan label\n",
    "X_train = np.vstack((X_pola.flatten(), O_pola.flatten()))\n",
    "y_train = np.array([1, -1])  # 1 untuk X, -1 untuk O"
   ]
  },
  {
   "cell_type": "code",
   "execution_count": 28,
   "id": "d265db90",
   "metadata": {
    "scrolled": true
   },
   "outputs": [
    {
     "data": {
      "text/plain": [
       "array([[ 1, -1, -1, -1,  1, -1,  1, -1,  1, -1, -1, -1,  1, -1, -1, -1,\n",
       "         1, -1,  1, -1,  1, -1, -1, -1,  1],\n",
       "       [-1,  1,  1,  1, -1,  1, -1, -1, -1,  1,  1, -1, -1, -1,  1,  1,\n",
       "        -1, -1, -1,  1, -1,  1,  1,  1, -1]])"
      ]
     },
     "execution_count": 28,
     "metadata": {},
     "output_type": "execute_result"
    }
   ],
   "source": [
    "X_train"
   ]
  },
  {
   "cell_type": "code",
   "execution_count": 29,
   "id": "42491c22",
   "metadata": {},
   "outputs": [
    {
     "data": {
      "text/plain": [
       "array([ 1, -1])"
      ]
     },
     "execution_count": 29,
     "metadata": {},
     "output_type": "execute_result"
    }
   ],
   "source": [
    "y_train"
   ]
  },
  {
   "cell_type": "code",
   "execution_count": 30,
   "id": "a53b3378",
   "metadata": {},
   "outputs": [
    {
     "name": "stdout",
     "output_type": "stream",
     "text": [
      "Prediksi: [ 1 -1]\n"
     ]
    }
   ],
   "source": [
    "# Inisialisasi dan pelatihan model Perceptron\n",
    "perceptron = Perceptron(max_iter=100, tol=None, random_state=0)\n",
    "perceptron.fit(X_train, y_train)\n",
    "\n",
    "# Prediksi\n",
    "X_pred = perceptron.predict(X_train)\n",
    "\n",
    "# Menampilkan hasil\n",
    "print(\"Prediksi:\", X_pred)"
   ]
  },
  {
   "cell_type": "markdown",
   "id": "f0f3f781",
   "metadata": {},
   "source": [
    "### Kasus 3"
   ]
  },
  {
   "cell_type": "markdown",
   "id": "885f31d1",
   "metadata": {},
   "source": [
    "Tabel Kebenaran OR dengan Input dan Output Bipolar."
   ]
  },
  {
   "cell_type": "code",
   "execution_count": 31,
   "id": "7d6cd645",
   "metadata": {},
   "outputs": [
    {
     "data": {
      "text/plain": [
       "array([[ 1,  1],\n",
       "       [ 1, -1],\n",
       "       [-1,  1],\n",
       "       [-1, -1]])"
      ]
     },
     "execution_count": 31,
     "metadata": {},
     "output_type": "execute_result"
    }
   ],
   "source": [
    "# Data training\n",
    "X = np.array([[1, 1],\n",
    "              [1, -1],\n",
    "              [-1, 1],\n",
    "              [-1, -1]])\n",
    "X"
   ]
  },
  {
   "cell_type": "code",
   "execution_count": 32,
   "id": "46bac86a",
   "metadata": {},
   "outputs": [
    {
     "data": {
      "text/plain": [
       "array([ 1,  1,  1, -1])"
      ]
     },
     "execution_count": 32,
     "metadata": {},
     "output_type": "execute_result"
    }
   ],
   "source": [
    "y = np.array([1, 1, 1, -1])\n",
    "y"
   ]
  },
  {
   "cell_type": "code",
   "execution_count": 33,
   "id": "430bc1da",
   "metadata": {},
   "outputs": [
    {
     "data": {
      "text/plain": [
       "array([ 1,  1,  1, -1])"
      ]
     },
     "execution_count": 33,
     "metadata": {},
     "output_type": "execute_result"
    }
   ],
   "source": [
    "# Inisialisasi dan pelatihan model Perceptron\n",
    "perceptron = Perceptron(max_iter=100, tol=None, eta0=1)\n",
    "perceptron.fit(X, y)\n",
    "\n",
    "# Prediksi\n",
    "predictions = perceptron.predict(X)\n",
    "\n",
    "# Menampilkan hasil\n",
    "predictions"
   ]
  },
  {
   "cell_type": "code",
   "execution_count": null,
   "id": "7c9934c3",
   "metadata": {},
   "outputs": [],
   "source": []
  }
 ],
 "metadata": {
  "kernelspec": {
   "display_name": "Python 3 (ipykernel)",
   "language": "python",
   "name": "python3"
  },
  "language_info": {
   "codemirror_mode": {
    "name": "ipython",
    "version": 3
   },
   "file_extension": ".py",
   "mimetype": "text/x-python",
   "name": "python",
   "nbconvert_exporter": "python",
   "pygments_lexer": "ipython3",
   "version": "3.10.4"
  }
 },
 "nbformat": 4,
 "nbformat_minor": 5
}
