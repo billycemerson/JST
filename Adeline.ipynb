{
 "cells": [
  {
   "cell_type": "markdown",
   "id": "a943014c",
   "metadata": {},
   "source": [
    "### Kasus 1\n",
    "#### Tabel Kebenaran OR"
   ]
  },
  {
   "cell_type": "code",
   "execution_count": 5,
   "id": "a791b4b3",
   "metadata": {},
   "outputs": [
    {
     "name": "stdout",
     "output_type": "stream",
     "text": [
      "Error : [1.22425402]\n",
      "Error : [0.84781546]\n",
      "Error : [0.59660288]\n",
      "Error : [0.41331808]\n",
      "Error : [0.28606925]\n",
      "Error : [0.19798581]\n",
      "Error : [0.13702366]\n",
      "Error : [0.09483245]\n",
      "Error : [0.06563242]\n",
      "Error : [0.04542342]\n",
      "Error : [0.03143701]\n",
      "Error : [0.02175718]\n",
      "Error : [0.01505789]\n",
      "Error : [0.01042139]\n",
      "Error : [0.00721252]\n",
      "Error : [0.0049917]\n",
      "Error : [0.0034547]\n",
      "Error : [0.00239095]\n",
      "Error : [0.00165475]\n",
      "Error : [0.00114523]\n",
      "Error : [0.0007926]\n",
      "weight : [0.00974753 0.00974753 0.98806176]\n",
      "Bias : [0.00974753]\n"
     ]
    }
   ],
   "source": [
    "# Import necessary libraries\n",
    "import numpy as np\n",
    "\n",
    "#Adaline neural network\n",
    "def Adaline(Input, Target, lr=0.2, stop=0.001):\n",
    "\tweight = np.random.random(Input.shape[1])\n",
    "\tbias = np.random.random(1)\n",
    "\t\n",
    "\tError=[stop +1]\n",
    "\t# check the stop condition for the network\n",
    "\twhile Error[-1] > stop or Error[-1]-Error[-2] > 0.0001:\n",
    "\t\terror = []\n",
    "\t\tfor i in range(Input.shape[0]):\n",
    "\t\t\tY_input = sum(weight*Input[i]) + bias\n",
    "\t\t\t\n",
    "\t\t\t# Update the weight\n",
    "\t\t\tfor j in range(Input.shape[1]):\n",
    "\t\t\t\tweight[j]=weight[j] + lr*(Target[i]-Y_input)*Input[i][j]\n",
    "\n",
    "\t\t\t# Update the bias\n",
    "\t\t\tbias=bias + lr*(Target[i]-Y_input)\n",
    "\t\t\t\n",
    "\t\t\t# Store squared error value\n",
    "\t\t\terror.append((Target[i]-Y_input)**2)\n",
    "\t\t# Store sum of square errors\n",
    "\t\tError.append(sum(error))\n",
    "\t\tprint('Error :',Error[-1])\n",
    "\treturn weight, bias\n",
    "\n",
    "# Input dataset\n",
    "x = np.array([[1.0, 1.0, 1.0],\n",
    "\t\t\t[1.0, -1.0, 1.0],\n",
    "\t\t\t[-1.0, 1.0, 1.0],\n",
    "\t\t\t[-1.0, -1.0, -1.0]])\n",
    "# Target values\n",
    "t = np.array([1, 1, 1, -1])\n",
    "\n",
    "w,b = Adaline(x, t, lr=0.2, stop=0.001)\n",
    "print('weight :',w)\n",
    "print('Bias :',b)"
   ]
  },
  {
   "cell_type": "code",
   "execution_count": 6,
   "id": "a19d4ab6",
   "metadata": {},
   "outputs": [
    {
     "data": {
      "text/plain": [
       "[array([1.01730435]),\n",
       " array([0.99780929]),\n",
       " array([0.99780929]),\n",
       " array([-0.99780929])]"
      ]
     },
     "execution_count": 6,
     "metadata": {},
     "output_type": "execute_result"
    }
   ],
   "source": [
    "# Predict from the evaluated weight and bias of adaline\n",
    "def prediction(X,w,b):\n",
    "\ty=[]\n",
    "\tfor i in range(X.shape[0]):\n",
    "\t\tx = X[i]\n",
    "\t\ty.append(sum(w*x)+b)\n",
    "\treturn y\n",
    "prediction(x,w,b)"
   ]
  },
  {
   "cell_type": "markdown",
   "id": "e7098433",
   "metadata": {},
   "source": [
    "### Kasus 2\n",
    "#### Tabel Kebenaran AND"
   ]
  },
  {
   "cell_type": "code",
   "execution_count": 7,
   "id": "dd9d2582",
   "metadata": {},
   "outputs": [
    {
     "name": "stdout",
     "output_type": "stream",
     "text": [
      "Error : [3.8940758]\n",
      "Error : [1.40078049]\n",
      "Error : [0.65761056]\n",
      "Error : [0.39364482]\n",
      "Error : [0.28226031]\n",
      "Error : [0.22497528]\n",
      "Error : [0.18890092]\n",
      "Error : [0.16234367]\n",
      "Error : [0.14091115]\n",
      "Error : [0.12281634]\n",
      "Error : [0.1072292]\n",
      "Error : [0.09368673]\n",
      "Error : [0.08187854]\n",
      "Error : [0.07156727]\n",
      "Error : [0.06255764]\n",
      "Error : [0.05468335]\n",
      "Error : [0.04780062]\n",
      "weight : [0.08809003 0.08803398 0.82714425]\n",
      "Bias : [-0.08791742]\n"
     ]
    }
   ],
   "source": [
    "# Import necessary libraries\n",
    "import numpy as np\n",
    "\n",
    "#Adaline neural network\n",
    "def Adaline(Input, Target, lr=0.1, stop=0.05):\n",
    "\tweight = np.random.random(Input.shape[1])\n",
    "\tbias = np.random.random(1)\n",
    "\t\n",
    "\tError=[stop +1]\n",
    "\t# check the stop condition for the network\n",
    "\twhile Error[-1] > stop or Error[-1]-Error[-2] > 0.005:\n",
    "\t\terror = []\n",
    "\t\tfor i in range(Input.shape[0]):\n",
    "\t\t\tY_input = sum(weight*Input[i]) + bias\n",
    "\t\t\t\n",
    "\t\t\t# Update the weight\n",
    "\t\t\tfor j in range(Input.shape[1]):\n",
    "\t\t\t\tweight[j]=weight[j] + lr*(Target[i]-Y_input)*Input[i][j]\n",
    "\n",
    "\t\t\t# Update the bias\n",
    "\t\t\tbias=bias + lr*(Target[i]-Y_input)\n",
    "\t\t\t\n",
    "\t\t\t# Store squared error value\n",
    "\t\t\terror.append((Target[i]-Y_input)**2)\n",
    "\t\t# Store sum of square errors\n",
    "\t\tError.append(sum(error))\n",
    "\t\tprint('Error :',Error[-1])\n",
    "\treturn weight, bias\n",
    "\n",
    "# Input dataset\n",
    "x = np.array([[1.0, 1.0, 1.0],\n",
    "\t\t\t[1.0, -1.0, -1.0],\n",
    "\t\t\t[-1.0, 1.0, -1.0],\n",
    "\t\t\t[-1.0, -1.0, -1.0]])\n",
    "# Target values\n",
    "t = np.array([1, -1, -1, -1])\n",
    "\n",
    "w,b = Adaline(x, t, lr=0.1, stop=0.05)\n",
    "print('weight :',w)\n",
    "print('Bias :',b)"
   ]
  },
  {
   "cell_type": "code",
   "execution_count": 8,
   "id": "9443921d",
   "metadata": {},
   "outputs": [
    {
     "data": {
      "text/plain": [
       "[array([0.91535084]),\n",
       " array([-0.91500562]),\n",
       " array([-0.91511771]),\n",
       " array([-1.09118568])]"
      ]
     },
     "execution_count": 8,
     "metadata": {},
     "output_type": "execute_result"
    }
   ],
   "source": [
    "# Predict from the evaluated weight and bias of adaline\n",
    "def prediction(X,w,b):\n",
    "\ty=[]\n",
    "\tfor i in range(X.shape[0]):\n",
    "\t\tx = X[i]\n",
    "\t\ty.append(sum(w*x)+b)\n",
    "\treturn y\n",
    "prediction(x,w,b)"
   ]
  },
  {
   "cell_type": "code",
   "execution_count": null,
   "id": "e8df1f9f",
   "metadata": {},
   "outputs": [],
   "source": []
  }
 ],
 "metadata": {
  "kernelspec": {
   "display_name": "Python 3 (ipykernel)",
   "language": "python",
   "name": "python3"
  },
  "language_info": {
   "codemirror_mode": {
    "name": "ipython",
    "version": 3
   },
   "file_extension": ".py",
   "mimetype": "text/x-python",
   "name": "python",
   "nbconvert_exporter": "python",
   "pygments_lexer": "ipython3",
   "version": "3.10.4"
  }
 },
 "nbformat": 4,
 "nbformat_minor": 5
}
